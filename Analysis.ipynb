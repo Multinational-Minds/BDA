{
 "cells": [
  {
   "cell_type": "code",
   "execution_count": 3,
   "metadata": {
    "collapsed": true,
    "pycharm": {
     "is_executing": false
    }
   },
   "outputs": [
    {
     "name": "stdout",
     "text": [
      "                                        1960-01-01        1961-01-01  \\\nABW Arable land (% of land area)              None  11.1111111111111   \n    Net migration                             None              None   \n    Population growth (annual %)    3.148036835756  2.23814393117093   \n    Population, total                        54211             55438   \n    pr                                     52.3833           69.8667   \n...                                            ...               ...   \nZWE Net migration                             None              None   \n    Population growth (annual %)  3.29757793885061  3.34209084414214   \n    Population, total                      3776681           3905034   \n    pr                                     47.4039           53.7528   \n    tas                                    21.4205            21.235   \n\n                                        1962-01-01         1963-01-01  \\\nABW Arable land (% of land area)  11.1111111111111   11.1111111111111   \n    Net migration                            -4323               None   \n    Population growth (annual %)  1.40962186505264  0.832452557842366   \n    Population, total                        56225              56695   \n    pr                                     55.4667            58.9917   \n...                                            ...                ...   \nZWE Net migration                           -15009               None   \n    Population growth (annual %)  3.37804100963982   3.39595152550613   \n    Population, total                      4039201            4178726   \n    pr                                     69.5185            50.6418   \n    tas                                    21.2609            20.6075   \n\n                                         1964-01-01         1965-01-01  \\\nABW Arable land (% of land area)   11.1111111111111   11.1111111111111   \n    Net migration                              None               None   \n    Population growth (annual %)  0.592649039152412  0.573468247603765   \n    Population, total                         57032              57360   \n    pr                                      63.4333            49.7833   \n...                                             ...                ...   \nZWE Net migration                              None               None   \n    Population growth (annual %)   3.39110361801411   3.37342333556813   \n    Population, total                       4322861            4471177   \n    pr                                      46.7221             33.681   \n    tas                                     21.0569            20.9641   \n\n                                         1966-01-01         1967-01-01  \\\nABW Arable land (% of land area)   11.1111111111111   11.1111111111111   \n    Net migration                              None              -4275   \n    Population growth (annual %)  0.616990877551069  0.587373201209392   \n    Population, total                         57715              58055   \n    pr                                      101.558             54.725   \n...                                             ...                ...   \nZWE Net migration                              None             -42001   \n    Population growth (annual %)   3.34680819209586   3.32845865316246   \n    Population, total                       4623351            4779827   \n    pr                                      53.4448            55.0858   \n    tas                                     21.3323               21.1   \n\n                                         1968-01-01         1969-01-01  ...  \\\nABW Arable land (% of land area)   11.1111111111111   11.1111111111111  ...   \n    Net migration                              None               None  ...   \n    Population growth (annual %)  0.568529798893749  0.580642385486161  ...   \n    Population, total                         58386              58726  ...   \n    pr                                        41.55            71.2833  ...   \n...                                             ...                ...  ...   \nZWE Net migration                              None               None  ...   \n    Population growth (annual %)   3.33467333663243   3.37099270823441  ...   \n    Population, total                       4941906            5111337  ...   \n    pr                                      43.9803             67.829  ...   \n    tas                                     21.4105            21.4327  ...   \n\n                                         2003-01-01         2004-01-01  \\\nABW Arable land (% of land area)   11.1111111111111   11.1111111111111   \n    Net migration                              None               None   \n    Population growth (annual %)   2.10935433511798   1.75735286660729   \n    Population, total                         97017              98737   \n    pr                                      60.8917             98.975   \n...                                             ...                ...   \nZWE Net migration                              None               None   \n    Population growth (annual %)  0.233400842587955  0.314038975309532   \n    Population, total                      11982224           12019912   \n    pr                                      48.2734            61.1774   \n    tas                                     21.9915            22.2381   \n\n                                         2005-01-01         2006-01-01  \\\nABW Arable land (% of land area)   11.1111111111111   11.1111111111111   \n    Net migration                              None               None   \n    Population growth (annual %)   1.30203884024471  0.799546240315869   \n    Population, total                        100031             100834   \n    pr                                      88.5833               48.9   \n...                                             ...                ...   \nZWE Net migration                              None               None   \n    Population growth (annual %)  0.471328562569945  0.650310827693939   \n    Population, total                      12076699           12155491   \n    pr                                      57.8406            52.0585   \n    tas                                     23.1848            21.7414   \n\n                                         2007-01-01         2008-01-01  \\\nABW Arable land (% of land area)   11.1111111111111   11.1111111111111   \n    Net migration                              -441               None   \n    Population growth (annual %)  0.384052418046932  0.134267963699872   \n    Population, total                        101222             101358   \n    pr                                      79.6583            87.0917   \n...                                             ...                ...   \nZWE Net migration                           -512676               None   \n    Population growth (annual %)  0.822824689676551   1.00365881192894   \n    Population, total                      12255922           12379549   \n    pr                                      55.0378            54.9115   \n    tas                                     21.9129             22.153   \n\n                                          2009-01-01         2010-01-01  \\\nABW Arable land (% of land area)    11.1111111111111   11.1111111111111   \n    Net migration                               None               None   \n    Population growth (annual %)  0.0956546250941544  0.210708807602047   \n    Population, total                         101455             101669   \n    pr                                       46.2917                NaN   \n...                                              ...                ...   \nZWE Net migration                               None               None   \n    Population growth (annual %)    1.18379235089659   1.35389256748755   \n    Population, total                       12526968           12697723   \n    pr                                       50.1755            60.4007   \n    tas                                      22.3557            22.3953   \n\n                                         2011-01-01         2012-01-01  \nABW Arable land (% of land area)   11.1111111111111   11.1111111111111  \n    Net migration                              None               1253  \n    Population growth (annual %)  0.370125351972654  0.502430115702537  \n    Population, total                        102046             102560  \n    pr                                          NaN                NaN  \n...                                             ...                ...  \nZWE Net migration                              None            -622997  \n    Population growth (annual %)   1.53639080596533   1.69800077206632  \n    Population, total                      12894316           13115131  \n    pr                                      57.3311            49.3277  \n    tas                                     22.0206            22.2408  \n\n[1224 rows x 53 columns]\n"
     ],
     "output_type": "stream"
    }
   ],
   "source": [
    "import functions as f\n",
    "\n",
    "data = f.openfile(\"dataset.h5\")\n",
    "print(data)\n",
    "f.savefile(data, \"dataset\")\n"
   ]
  }
 ],
 "metadata": {
  "kernelspec": {
   "display_name": "Python 3",
   "language": "python",
   "name": "python3"
  },
  "language_info": {
   "codemirror_mode": {
    "name": "ipython",
    "version": 2
   },
   "file_extension": ".py",
   "mimetype": "text/x-python",
   "name": "python",
   "nbconvert_exporter": "python",
   "pygments_lexer": "ipython2",
   "version": "2.7.6"
  },
  "pycharm": {
   "stem_cell": {
    "cell_type": "raw",
    "source": [],
    "metadata": {
     "collapsed": false
    }
   }
  }
 },
 "nbformat": 4,
 "nbformat_minor": 0
}